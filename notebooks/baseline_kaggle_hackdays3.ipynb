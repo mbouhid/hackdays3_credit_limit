{
 "cells": [
  {
   "cell_type": "markdown",
   "id": "1d56db7e",
   "metadata": {},
   "source": [
    "# 3º Hackdays CDS"
   ]
  },
  {
   "cell_type": "markdown",
   "id": "0f9ac06d",
   "metadata": {},
   "source": [
    "# 0.0 Import libs"
   ]
  },
  {
   "cell_type": "code",
   "execution_count": 1,
   "id": "8b69b0de",
   "metadata": {
    "ExecuteTime": {
     "end_time": "2023-02-21T15:13:01.833118Z",
     "start_time": "2023-02-21T15:13:00.754416Z"
    }
   },
   "outputs": [],
   "source": [
    "import pandas                as pd\n",
    "from sklearn.preprocessing   import LabelEncoder\n",
    "from sklearn                 import model_selection as ms\n",
    "from xgboost                 import XGBClassifier\n",
    "from sklearn.metrics         import f1_score\n",
    "from sklearn.model_selection import cross_val_score"
   ]
  },
  {
   "cell_type": "markdown",
   "id": "7d06ecc4",
   "metadata": {},
   "source": [
    "# 0.1 Load Data"
   ]
  },
  {
   "cell_type": "code",
   "execution_count": 2,
   "id": "6e6e4ec4",
   "metadata": {
    "ExecuteTime": {
     "end_time": "2023-02-21T15:13:01.881050Z",
     "start_time": "2023-02-21T15:13:01.836088Z"
    }
   },
   "outputs": [],
   "source": [
    "# Carregar dataset treino kaggle\n",
    "df = pd.read_csv('../data/train.csv')"
   ]
  },
  {
   "cell_type": "code",
   "execution_count": 3,
   "id": "3b4f1d2b",
   "metadata": {
    "ExecuteTime": {
     "end_time": "2023-02-21T15:13:01.913066Z",
     "start_time": "2023-02-21T15:13:01.883047Z"
    }
   },
   "outputs": [
    {
     "data": {
      "text/html": [
       "<div>\n",
       "<style scoped>\n",
       "    .dataframe tbody tr th:only-of-type {\n",
       "        vertical-align: middle;\n",
       "    }\n",
       "\n",
       "    .dataframe tbody tr th {\n",
       "        vertical-align: top;\n",
       "    }\n",
       "\n",
       "    .dataframe thead th {\n",
       "        text-align: right;\n",
       "    }\n",
       "</style>\n",
       "<table border=\"1\" class=\"dataframe\">\n",
       "  <thead>\n",
       "    <tr style=\"text-align: right;\">\n",
       "      <th></th>\n",
       "      <th>id_cliente</th>\n",
       "      <th>idade</th>\n",
       "      <th>saldo_atual</th>\n",
       "      <th>divida_atual</th>\n",
       "      <th>renda_anual</th>\n",
       "      <th>valor_em_investimentos</th>\n",
       "      <th>taxa_utilizacao_credito</th>\n",
       "      <th>num_emprestimos</th>\n",
       "      <th>num_contas_bancarias</th>\n",
       "      <th>num_cartoes_credito</th>\n",
       "      <th>dias_atraso_dt_venc</th>\n",
       "      <th>num_pgtos_atrasados</th>\n",
       "      <th>num_consultas_credito</th>\n",
       "      <th>taxa_juros</th>\n",
       "      <th>investe_exterior</th>\n",
       "      <th>pessoa_polit_exp</th>\n",
       "      <th>limite_adicional</th>\n",
       "    </tr>\n",
       "  </thead>\n",
       "  <tbody>\n",
       "    <tr>\n",
       "      <th>0</th>\n",
       "      <td>1767</td>\n",
       "      <td>21</td>\n",
       "      <td>278.172008</td>\n",
       "      <td>2577.05</td>\n",
       "      <td>24196.89636</td>\n",
       "      <td>104.306544</td>\n",
       "      <td>31.038763</td>\n",
       "      <td>6</td>\n",
       "      <td>5</td>\n",
       "      <td>7</td>\n",
       "      <td>21</td>\n",
       "      <td>14</td>\n",
       "      <td>9</td>\n",
       "      <td>15</td>\n",
       "      <td>Não</td>\n",
       "      <td>Não</td>\n",
       "      <td>Negar</td>\n",
       "    </tr>\n",
       "    <tr>\n",
       "      <th>1</th>\n",
       "      <td>11920</td>\n",
       "      <td>40</td>\n",
       "      <td>268.874152</td>\n",
       "      <td>2465.39</td>\n",
       "      <td>19227.37796</td>\n",
       "      <td>69.858778</td>\n",
       "      <td>36.917093</td>\n",
       "      <td>5</td>\n",
       "      <td>8</td>\n",
       "      <td>5</td>\n",
       "      <td>40</td>\n",
       "      <td>23</td>\n",
       "      <td>10</td>\n",
       "      <td>18</td>\n",
       "      <td>Não</td>\n",
       "      <td>Não</td>\n",
       "      <td>Negar</td>\n",
       "    </tr>\n",
       "    <tr>\n",
       "      <th>2</th>\n",
       "      <td>8910</td>\n",
       "      <td>36</td>\n",
       "      <td>446.643127</td>\n",
       "      <td>1055.29</td>\n",
       "      <td>42822.28223</td>\n",
       "      <td>134.201478</td>\n",
       "      <td>34.561714</td>\n",
       "      <td>0</td>\n",
       "      <td>3</td>\n",
       "      <td>6</td>\n",
       "      <td>26</td>\n",
       "      <td>13</td>\n",
       "      <td>3</td>\n",
       "      <td>15</td>\n",
       "      <td>Sim</td>\n",
       "      <td>Não</td>\n",
       "      <td>Negar</td>\n",
       "    </tr>\n",
       "    <tr>\n",
       "      <th>3</th>\n",
       "      <td>4964</td>\n",
       "      <td>58</td>\n",
       "      <td>321.141267</td>\n",
       "      <td>703.05</td>\n",
       "      <td>51786.82600</td>\n",
       "      <td>297.350067</td>\n",
       "      <td>31.493561</td>\n",
       "      <td>0</td>\n",
       "      <td>3</td>\n",
       "      <td>7</td>\n",
       "      <td>12</td>\n",
       "      <td>7</td>\n",
       "      <td>2</td>\n",
       "      <td>1</td>\n",
       "      <td>Sim</td>\n",
       "      <td>Não</td>\n",
       "      <td>Negar</td>\n",
       "    </tr>\n",
       "    <tr>\n",
       "      <th>4</th>\n",
       "      <td>10100</td>\n",
       "      <td>35</td>\n",
       "      <td>428.716114</td>\n",
       "      <td>891.29</td>\n",
       "      <td>44626.85346</td>\n",
       "      <td>134.201478</td>\n",
       "      <td>28.028887</td>\n",
       "      <td>2</td>\n",
       "      <td>8</td>\n",
       "      <td>7</td>\n",
       "      <td>24</td>\n",
       "      <td>10</td>\n",
       "      <td>8</td>\n",
       "      <td>20</td>\n",
       "      <td>Sim</td>\n",
       "      <td>Não</td>\n",
       "      <td>Negar</td>\n",
       "    </tr>\n",
       "    <tr>\n",
       "      <th>...</th>\n",
       "      <td>...</td>\n",
       "      <td>...</td>\n",
       "      <td>...</td>\n",
       "      <td>...</td>\n",
       "      <td>...</td>\n",
       "      <td>...</td>\n",
       "      <td>...</td>\n",
       "      <td>...</td>\n",
       "      <td>...</td>\n",
       "      <td>...</td>\n",
       "      <td>...</td>\n",
       "      <td>...</td>\n",
       "      <td>...</td>\n",
       "      <td>...</td>\n",
       "      <td>...</td>\n",
       "      <td>...</td>\n",
       "      <td>...</td>\n",
       "    </tr>\n",
       "    <tr>\n",
       "      <th>9495</th>\n",
       "      <td>5155</td>\n",
       "      <td>29</td>\n",
       "      <td>157.500279</td>\n",
       "      <td>157.98</td>\n",
       "      <td>32624.67754</td>\n",
       "      <td>237.739275</td>\n",
       "      <td>32.407322</td>\n",
       "      <td>100</td>\n",
       "      <td>4</td>\n",
       "      <td>4</td>\n",
       "      <td>24</td>\n",
       "      <td>15</td>\n",
       "      <td>1</td>\n",
       "      <td>14</td>\n",
       "      <td>Sim</td>\n",
       "      <td>Não</td>\n",
       "      <td>Negar</td>\n",
       "    </tr>\n",
       "    <tr>\n",
       "      <th>9496</th>\n",
       "      <td>11977</td>\n",
       "      <td>1237</td>\n",
       "      <td>497.714090</td>\n",
       "      <td>805.43</td>\n",
       "      <td>49024.15700</td>\n",
       "      <td>118.883577</td>\n",
       "      <td>23.632195</td>\n",
       "      <td>0</td>\n",
       "      <td>4</td>\n",
       "      <td>7</td>\n",
       "      <td>10</td>\n",
       "      <td>11</td>\n",
       "      <td>2</td>\n",
       "      <td>3</td>\n",
       "      <td>Não</td>\n",
       "      <td>Não</td>\n",
       "      <td>Negar</td>\n",
       "    </tr>\n",
       "    <tr>\n",
       "      <th>9497</th>\n",
       "      <td>9278</td>\n",
       "      <td>47</td>\n",
       "      <td>306.557684</td>\n",
       "      <td>2250.42</td>\n",
       "      <td>42200.88978</td>\n",
       "      <td>134.201478</td>\n",
       "      <td>34.623576</td>\n",
       "      <td>4</td>\n",
       "      <td>4</td>\n",
       "      <td>4</td>\n",
       "      <td>13</td>\n",
       "      <td>8</td>\n",
       "      <td>4</td>\n",
       "      <td>24</td>\n",
       "      <td>Não</td>\n",
       "      <td>Não</td>\n",
       "      <td>Negar</td>\n",
       "    </tr>\n",
       "    <tr>\n",
       "      <th>9498</th>\n",
       "      <td>2525</td>\n",
       "      <td>42</td>\n",
       "      <td>209.870718</td>\n",
       "      <td>505.37</td>\n",
       "      <td>35391.32289</td>\n",
       "      <td>245.498881</td>\n",
       "      <td>28.758818</td>\n",
       "      <td>3</td>\n",
       "      <td>7</td>\n",
       "      <td>6</td>\n",
       "      <td>24</td>\n",
       "      <td>13</td>\n",
       "      <td>3</td>\n",
       "      <td>11</td>\n",
       "      <td>Sim</td>\n",
       "      <td>Não</td>\n",
       "      <td>Negar</td>\n",
       "    </tr>\n",
       "    <tr>\n",
       "      <th>9499</th>\n",
       "      <td>9636</td>\n",
       "      <td>35</td>\n",
       "      <td>971.407512</td>\n",
       "      <td>851.22</td>\n",
       "      <td>106192.53216</td>\n",
       "      <td>78.140488</td>\n",
       "      <td>30.528134</td>\n",
       "      <td>0</td>\n",
       "      <td>0</td>\n",
       "      <td>6</td>\n",
       "      <td>8</td>\n",
       "      <td>4</td>\n",
       "      <td>2377</td>\n",
       "      <td>3</td>\n",
       "      <td>Não</td>\n",
       "      <td>Não</td>\n",
       "      <td>Negar</td>\n",
       "    </tr>\n",
       "  </tbody>\n",
       "</table>\n",
       "<p>9500 rows × 17 columns</p>\n",
       "</div>"
      ],
      "text/plain": [
       "      id_cliente  idade  saldo_atual  divida_atual   renda_anual  \\\n",
       "0           1767     21   278.172008       2577.05   24196.89636   \n",
       "1          11920     40   268.874152       2465.39   19227.37796   \n",
       "2           8910     36   446.643127       1055.29   42822.28223   \n",
       "3           4964     58   321.141267        703.05   51786.82600   \n",
       "4          10100     35   428.716114        891.29   44626.85346   \n",
       "...          ...    ...          ...           ...           ...   \n",
       "9495        5155     29   157.500279        157.98   32624.67754   \n",
       "9496       11977   1237   497.714090        805.43   49024.15700   \n",
       "9497        9278     47   306.557684       2250.42   42200.88978   \n",
       "9498        2525     42   209.870718        505.37   35391.32289   \n",
       "9499        9636     35   971.407512        851.22  106192.53216   \n",
       "\n",
       "      valor_em_investimentos  taxa_utilizacao_credito  num_emprestimos  \\\n",
       "0                 104.306544                31.038763                6   \n",
       "1                  69.858778                36.917093                5   \n",
       "2                 134.201478                34.561714                0   \n",
       "3                 297.350067                31.493561                0   \n",
       "4                 134.201478                28.028887                2   \n",
       "...                      ...                      ...              ...   \n",
       "9495              237.739275                32.407322              100   \n",
       "9496              118.883577                23.632195                0   \n",
       "9497              134.201478                34.623576                4   \n",
       "9498              245.498881                28.758818                3   \n",
       "9499               78.140488                30.528134                0   \n",
       "\n",
       "      num_contas_bancarias  num_cartoes_credito  dias_atraso_dt_venc  \\\n",
       "0                        5                    7                   21   \n",
       "1                        8                    5                   40   \n",
       "2                        3                    6                   26   \n",
       "3                        3                    7                   12   \n",
       "4                        8                    7                   24   \n",
       "...                    ...                  ...                  ...   \n",
       "9495                     4                    4                   24   \n",
       "9496                     4                    7                   10   \n",
       "9497                     4                    4                   13   \n",
       "9498                     7                    6                   24   \n",
       "9499                     0                    6                    8   \n",
       "\n",
       "      num_pgtos_atrasados  num_consultas_credito  taxa_juros investe_exterior  \\\n",
       "0                      14                      9          15              Não   \n",
       "1                      23                     10          18              Não   \n",
       "2                      13                      3          15              Sim   \n",
       "3                       7                      2           1              Sim   \n",
       "4                      10                      8          20              Sim   \n",
       "...                   ...                    ...         ...              ...   \n",
       "9495                   15                      1          14              Sim   \n",
       "9496                   11                      2           3              Não   \n",
       "9497                    8                      4          24              Não   \n",
       "9498                   13                      3          11              Sim   \n",
       "9499                    4                   2377           3              Não   \n",
       "\n",
       "     pessoa_polit_exp limite_adicional  \n",
       "0                 Não            Negar  \n",
       "1                 Não            Negar  \n",
       "2                 Não            Negar  \n",
       "3                 Não            Negar  \n",
       "4                 Não            Negar  \n",
       "...               ...              ...  \n",
       "9495              Não            Negar  \n",
       "9496              Não            Negar  \n",
       "9497              Não            Negar  \n",
       "9498              Não            Negar  \n",
       "9499              Não            Negar  \n",
       "\n",
       "[9500 rows x 17 columns]"
      ]
     },
     "execution_count": 3,
     "metadata": {},
     "output_type": "execute_result"
    }
   ],
   "source": [
    "# Listar dataset\n",
    "df"
   ]
  },
  {
   "cell_type": "markdown",
   "id": "4a1c3ab2",
   "metadata": {},
   "source": [
    "# Steps Jumped"
   ]
  },
  {
   "cell_type": "code",
   "execution_count": 4,
   "id": "b15cccd8",
   "metadata": {
    "ExecuteTime": {
     "end_time": "2023-02-21T15:13:01.929066Z",
     "start_time": "2023-02-21T15:13:01.915057Z"
    }
   },
   "outputs": [],
   "source": [
    "# Fillout NA\n",
    "# Change Types\n",
    "# Estatística descritiva básica \n",
    "# Feature engeneering\n",
    "# Filtragem de variáveis inúteis\n",
    "# Análise Exploratória dos Dados"
   ]
  },
  {
   "cell_type": "markdown",
   "id": "69d20c8a",
   "metadata": {},
   "source": [
    "# Data Preparation"
   ]
  },
  {
   "cell_type": "code",
   "execution_count": 5,
   "id": "79b45f8e",
   "metadata": {
    "ExecuteTime": {
     "end_time": "2023-02-21T15:13:01.961052Z",
     "start_time": "2023-02-21T15:13:01.933059Z"
    }
   },
   "outputs": [],
   "source": [
    "# Dividir dataset entre Treino (80%) e Teste (20%) \n",
    "X = df.drop('limite_adicional', axis = 1).copy()\n",
    "y = df['limite_adicional'].copy()\n",
    "\n",
    "x_train, x_test, y_train, y_test = ms.train_test_split(X, y, stratify = y, test_size = 0.20, random_state = 42)"
   ]
  },
  {
   "cell_type": "code",
   "execution_count": 6,
   "id": "1f7dfcf0",
   "metadata": {
    "ExecuteTime": {
     "end_time": "2023-02-21T15:13:01.993056Z",
     "start_time": "2023-02-21T15:13:01.963034Z"
    }
   },
   "outputs": [],
   "source": [
    "# df2 será usado para splitar Treino e Validação\n",
    "df2 = pd.concat([x_train, y_train], axis = 1)\n",
    "\n",
    "# Dividir dataset entre Treino (90%) e Validação (10%)\n",
    "X = df2.drop(['limite_adicional'], axis=1).copy()\n",
    "y = df2['limite_adicional'].copy()\n",
    "\n",
    "x_train, x_val, y_train, y_val = ms.train_test_split(X, y, stratify = y, test_size=0.10, random_state = 42)"
   ]
  },
  {
   "cell_type": "code",
   "execution_count": 7,
   "id": "87975adb",
   "metadata": {
    "ExecuteTime": {
     "end_time": "2023-02-21T15:13:02.009034Z",
     "start_time": "2023-02-21T15:13:01.995038Z"
    }
   },
   "outputs": [
    {
     "name": "stdout",
     "output_type": "stream",
     "text": [
      "x_train ->  (6840, 16)\n",
      "y_train ->  (6840,)\n",
      "x_val ->  (760, 16)\n",
      "y_val ->  (760,)\n",
      "x_test ->  (1900, 16)\n",
      "y_test ->  (1900,)\n"
     ]
    }
   ],
   "source": [
    "# Dados de treino\n",
    "print('x_train -> ',x_train.shape)\n",
    "print('y_train -> ',y_train.shape)\n",
    "# Dados de validação\n",
    "print('x_val -> ',x_val.shape)\n",
    "print('y_val -> ',y_val.shape)\n",
    "# Dados de teste\n",
    "print('x_test -> ',x_test.shape)\n",
    "print('y_test -> ',y_test.shape)"
   ]
  },
  {
   "cell_type": "code",
   "execution_count": 8,
   "id": "edda7644",
   "metadata": {
    "ExecuteTime": {
     "end_time": "2023-02-21T15:13:02.025040Z",
     "start_time": "2023-02-21T15:13:02.011041Z"
    }
   },
   "outputs": [],
   "source": [
    "# Preparação dos dados\n",
    "# Encodar features categóricas de treino\n",
    "le_inv_ext = LabelEncoder()\n",
    "le_pes_pol = LabelEncoder()\n",
    "x_train['investe_exterior'] = le_inv_ext.fit_transform(x_train['investe_exterior'])\n",
    "x_train['pessoa_polit_exp'] = le_pes_pol.fit_transform(x_train['pessoa_polit_exp'])\n",
    "\n",
    "# Encodar var resposta de treino\n",
    "lim_adi_dict = {'Negar':0, 'Conceder':1}\n",
    "y_train = y_train.map(lim_adi_dict)\n",
    "\n",
    "# Encodar features categóricas de validação\n",
    "x_val['investe_exterior']   = le_inv_ext.transform(x_val['investe_exterior'])\n",
    "x_val['pessoa_polit_exp']   = le_pes_pol.transform(x_val['pessoa_polit_exp'])\n",
    "\n",
    "# Encodar var resposta de validação\n",
    "y_val = y_val.map(lim_adi_dict)"
   ]
  },
  {
   "cell_type": "markdown",
   "id": "a37364b5",
   "metadata": {},
   "source": [
    "# Machine Learning Models"
   ]
  },
  {
   "cell_type": "code",
   "execution_count": 9,
   "id": "e277c50e",
   "metadata": {
    "ExecuteTime": {
     "end_time": "2023-02-21T15:13:02.388665Z",
     "start_time": "2023-02-21T15:13:02.028406Z"
    }
   },
   "outputs": [],
   "source": [
    "# Aplicação de modelos \n",
    "# Treinar XGBoost Classifier\n",
    "# Model definition\n",
    "model_xgboost = XGBClassifier(random_state=42)\n",
    "# Model training\n",
    "model_xgboost.fit(x_train, y_train)\n",
    "# Model prediction\n",
    "yhat_xgboost = model_xgboost.predict(x_val)"
   ]
  },
  {
   "cell_type": "code",
   "execution_count": 10,
   "id": "0e597174",
   "metadata": {
    "ExecuteTime": {
     "end_time": "2023-02-21T15:13:02.404869Z",
     "start_time": "2023-02-21T15:13:02.390664Z"
    }
   },
   "outputs": [
    {
     "name": "stdout",
     "output_type": "stream",
     "text": [
      "XGBoost - Média ponderada com F1 Score (dados validação): 0.869\n"
     ]
    }
   ],
   "source": [
    "# Avaliação de modelos \n",
    "# Validar modelo com F1 Score (dados validação)\n",
    "print(f\"XGBoost - Média ponderada com F1 Score (dados validação): {round(f1_score(y_val, yhat_xgboost, average='weighted') ,3)}\") #binary=default"
   ]
  },
  {
   "cell_type": "code",
   "execution_count": 11,
   "id": "a4b5cdb5",
   "metadata": {
    "ExecuteTime": {
     "end_time": "2023-02-21T15:13:03.892438Z",
     "start_time": "2023-02-21T15:13:02.406878Z"
    }
   },
   "outputs": [
    {
     "name": "stdout",
     "output_type": "stream",
     "text": [
      "K-folds: [0.63636364 0.44444444 0.33333333 0.54545455 0.6        0.33333333\n",
      " 0.63636364 0.76190476 0.54545455 0.42105263]\n",
      "XGBoost - Média ponderada com F1 Score (dados validação): 0.861\n"
     ]
    }
   ],
   "source": [
    "# Validar modelo com F1 Score, no método cross validation (dados validação) \n",
    "print(f\"K-folds: {cross_val_score(model_xgboost, x_val, y_val, scoring='f1', cv = 10)}\") #'F1' métrica F1 Score p/ classificação binary\n",
    "print(f\"XGBoost - Média ponderada com F1 Score (dados validação): {round(cross_val_score(model_xgboost, x_val, y_val, scoring='f1_weighted', cv = 10).mean() ,3)}\")\n",
    "# Performance manteve-se próxima com cross validation"
   ]
  },
  {
   "cell_type": "code",
   "execution_count": 12,
   "id": "cf31beea",
   "metadata": {
    "ExecuteTime": {
     "end_time": "2023-02-21T15:13:03.908272Z",
     "start_time": "2023-02-21T15:13:03.895452Z"
    }
   },
   "outputs": [],
   "source": [
    "# Testar modelos\n",
    "# Antes, juntar dados de treino + validação, formando um novo dataset de treino.\n",
    "x_train_full = pd.concat([x_train, x_val])\n",
    "y_train_full = pd.concat([y_train, y_val])"
   ]
  },
  {
   "cell_type": "code",
   "execution_count": 13,
   "id": "613f7b8a",
   "metadata": {
    "ExecuteTime": {
     "end_time": "2023-02-21T15:13:03.924101Z",
     "start_time": "2023-02-21T15:13:03.912513Z"
    }
   },
   "outputs": [],
   "source": [
    "# Encodar features categóricas de teste\n",
    "x_test['investe_exterior']   = le_inv_ext.transform(x_test['investe_exterior'])\n",
    "x_test['pessoa_polit_exp']   = le_pes_pol.transform(x_test['pessoa_polit_exp'])\n",
    "\n",
    "# Encodar var resposta de teste\n",
    "y_test = y_test.map(lim_adi_dict)"
   ]
  },
  {
   "cell_type": "code",
   "execution_count": 14,
   "id": "29f253ad",
   "metadata": {
    "ExecuteTime": {
     "end_time": "2023-02-21T15:13:04.338009Z",
     "start_time": "2023-02-21T15:13:03.930396Z"
    }
   },
   "outputs": [],
   "source": [
    "# Treinar nova XGBoost, com o novo dataset treino\n",
    "# Model definition\n",
    "model_xgboost_full = XGBClassifier(random_state=42)\n",
    "# Model training\n",
    "model_xgboost_full.fit(x_train_full, y_train_full)\n",
    "# Model prediction\n",
    "# Passar os dados de teste separados anteriormente\n",
    "yhat_xgboost_full = model_xgboost_full.predict(x_test)"
   ]
  },
  {
   "cell_type": "code",
   "execution_count": 15,
   "id": "4c099a0c",
   "metadata": {
    "ExecuteTime": {
     "end_time": "2023-02-21T15:13:04.353472Z",
     "start_time": "2023-02-21T15:13:04.340010Z"
    }
   },
   "outputs": [
    {
     "name": "stdout",
     "output_type": "stream",
     "text": [
      "XGBoost - Média ponderada com F1 Score (dados teste): 0.865\n"
     ]
    }
   ],
   "source": [
    "# Validar modelo com F1 Score (dados teste)\n",
    "print(f\"XGBoost - Média ponderada com F1 Score (dados teste): {round(f1_score(y_test, yhat_xgboost_full, average='weighted') ,3)}\") #binary=default"
   ]
  },
  {
   "cell_type": "code",
   "execution_count": 16,
   "id": "5c9cbc23",
   "metadata": {
    "ExecuteTime": {
     "end_time": "2023-02-21T15:13:04.369295Z",
     "start_time": "2023-02-21T15:13:04.356941Z"
    }
   },
   "outputs": [],
   "source": [
    "# Resultados:\n",
    " # XGBoost - Média ponderada com F1 Score (dados validação): 0.86\n",
    " # XGBoost - Média ponderada com F1 Score (dados teste): 0.86\n",
    "# O modelo apresenta boa capacidade de generalização (classificar dados inéditos). "
   ]
  },
  {
   "cell_type": "code",
   "execution_count": 17,
   "id": "caef91d6",
   "metadata": {
    "ExecuteTime": {
     "end_time": "2023-02-21T15:13:04.417278Z",
     "start_time": "2023-02-21T15:13:04.372280Z"
    }
   },
   "outputs": [
    {
     "data": {
      "text/html": [
       "<div>\n",
       "<style scoped>\n",
       "    .dataframe tbody tr th:only-of-type {\n",
       "        vertical-align: middle;\n",
       "    }\n",
       "\n",
       "    .dataframe tbody tr th {\n",
       "        vertical-align: top;\n",
       "    }\n",
       "\n",
       "    .dataframe thead th {\n",
       "        text-align: right;\n",
       "    }\n",
       "</style>\n",
       "<table border=\"1\" class=\"dataframe\">\n",
       "  <thead>\n",
       "    <tr style=\"text-align: right;\">\n",
       "      <th></th>\n",
       "      <th>id_cliente</th>\n",
       "      <th>idade</th>\n",
       "      <th>saldo_atual</th>\n",
       "      <th>divida_atual</th>\n",
       "      <th>renda_anual</th>\n",
       "      <th>valor_em_investimentos</th>\n",
       "      <th>taxa_utilizacao_credito</th>\n",
       "      <th>num_emprestimos</th>\n",
       "      <th>num_contas_bancarias</th>\n",
       "      <th>num_cartoes_credito</th>\n",
       "      <th>dias_atraso_dt_venc</th>\n",
       "      <th>num_pgtos_atrasados</th>\n",
       "      <th>num_consultas_credito</th>\n",
       "      <th>taxa_juros</th>\n",
       "      <th>investe_exterior</th>\n",
       "      <th>pessoa_polit_exp</th>\n",
       "    </tr>\n",
       "  </thead>\n",
       "  <tbody>\n",
       "    <tr>\n",
       "      <th>0</th>\n",
       "      <td>2</td>\n",
       "      <td>32</td>\n",
       "      <td>470.690627</td>\n",
       "      <td>605.03</td>\n",
       "      <td>42688.60400</td>\n",
       "      <td>104.291825</td>\n",
       "      <td>24.464031</td>\n",
       "      <td>1</td>\n",
       "      <td>2</td>\n",
       "      <td>4</td>\n",
       "      <td>3</td>\n",
       "      <td>4</td>\n",
       "      <td>2</td>\n",
       "      <td>6</td>\n",
       "      <td>Não</td>\n",
       "      <td>Não</td>\n",
       "    </tr>\n",
       "    <tr>\n",
       "      <th>1</th>\n",
       "      <td>5</td>\n",
       "      <td>25</td>\n",
       "      <td>288.605522</td>\n",
       "      <td>943.86</td>\n",
       "      <td>43545.94475</td>\n",
       "      <td>276.725394</td>\n",
       "      <td>39.797764</td>\n",
       "      <td>0</td>\n",
       "      <td>7</td>\n",
       "      <td>5</td>\n",
       "      <td>5</td>\n",
       "      <td>14</td>\n",
       "      <td>4</td>\n",
       "      <td>5</td>\n",
       "      <td>Não</td>\n",
       "      <td>Não</td>\n",
       "    </tr>\n",
       "    <tr>\n",
       "      <th>2</th>\n",
       "      <td>6</td>\n",
       "      <td>35</td>\n",
       "      <td>740.196090</td>\n",
       "      <td>548.20</td>\n",
       "      <td>82208.44752</td>\n",
       "      <td>98.674410</td>\n",
       "      <td>39.962685</td>\n",
       "      <td>0</td>\n",
       "      <td>4</td>\n",
       "      <td>1288</td>\n",
       "      <td>12</td>\n",
       "      <td>10</td>\n",
       "      <td>2</td>\n",
       "      <td>8</td>\n",
       "      <td>Não</td>\n",
       "      <td>Não</td>\n",
       "    </tr>\n",
       "    <tr>\n",
       "      <th>3</th>\n",
       "      <td>8</td>\n",
       "      <td>7586</td>\n",
       "      <td>298.192158</td>\n",
       "      <td>1704.18</td>\n",
       "      <td>41749.69050</td>\n",
       "      <td>162.441009</td>\n",
       "      <td>24.448063</td>\n",
       "      <td>3</td>\n",
       "      <td>8</td>\n",
       "      <td>7</td>\n",
       "      <td>30</td>\n",
       "      <td>11</td>\n",
       "      <td>5</td>\n",
       "      <td>15</td>\n",
       "      <td>Não</td>\n",
       "      <td>Não</td>\n",
       "    </tr>\n",
       "    <tr>\n",
       "      <th>4</th>\n",
       "      <td>10</td>\n",
       "      <td>49</td>\n",
       "      <td>341.554423</td>\n",
       "      <td>421.43</td>\n",
       "      <td>42381.95080</td>\n",
       "      <td>154.352781</td>\n",
       "      <td>29.519353</td>\n",
       "      <td>2</td>\n",
       "      <td>0</td>\n",
       "      <td>5</td>\n",
       "      <td>4</td>\n",
       "      <td>0</td>\n",
       "      <td>2</td>\n",
       "      <td>12</td>\n",
       "      <td>Não</td>\n",
       "      <td>Não</td>\n",
       "    </tr>\n",
       "    <tr>\n",
       "      <th>...</th>\n",
       "      <td>...</td>\n",
       "      <td>...</td>\n",
       "      <td>...</td>\n",
       "      <td>...</td>\n",
       "      <td>...</td>\n",
       "      <td>...</td>\n",
       "      <td>...</td>\n",
       "      <td>...</td>\n",
       "      <td>...</td>\n",
       "      <td>...</td>\n",
       "      <td>...</td>\n",
       "      <td>...</td>\n",
       "      <td>...</td>\n",
       "      <td>...</td>\n",
       "      <td>...</td>\n",
       "      <td>...</td>\n",
       "    </tr>\n",
       "    <tr>\n",
       "      <th>2995</th>\n",
       "      <td>12484</td>\n",
       "      <td>48</td>\n",
       "      <td>417.139276</td>\n",
       "      <td>636.96</td>\n",
       "      <td>45532.40174</td>\n",
       "      <td>94.723661</td>\n",
       "      <td>25.382445</td>\n",
       "      <td>2</td>\n",
       "      <td>7</td>\n",
       "      <td>3</td>\n",
       "      <td>6</td>\n",
       "      <td>8</td>\n",
       "      <td>4</td>\n",
       "      <td>19</td>\n",
       "      <td>Sim</td>\n",
       "      <td>Não</td>\n",
       "    </tr>\n",
       "    <tr>\n",
       "      <th>2996</th>\n",
       "      <td>12487</td>\n",
       "      <td>43</td>\n",
       "      <td>720.344280</td>\n",
       "      <td>717.79</td>\n",
       "      <td>95347.46144</td>\n",
       "      <td>160.090877</td>\n",
       "      <td>27.777284</td>\n",
       "      <td>2</td>\n",
       "      <td>6</td>\n",
       "      <td>7</td>\n",
       "      <td>30</td>\n",
       "      <td>20</td>\n",
       "      <td>5</td>\n",
       "      <td>11</td>\n",
       "      <td>Sim</td>\n",
       "      <td>Não</td>\n",
       "    </tr>\n",
       "    <tr>\n",
       "      <th>2997</th>\n",
       "      <td>12489</td>\n",
       "      <td>44</td>\n",
       "      <td>874.910490</td>\n",
       "      <td>361.68</td>\n",
       "      <td>97517.21808</td>\n",
       "      <td>98.884010</td>\n",
       "      <td>43.307916</td>\n",
       "      <td>0</td>\n",
       "      <td>2</td>\n",
       "      <td>7</td>\n",
       "      <td>5</td>\n",
       "      <td>7</td>\n",
       "      <td>1</td>\n",
       "      <td>7</td>\n",
       "      <td>Não</td>\n",
       "      <td>Não</td>\n",
       "    </tr>\n",
       "    <tr>\n",
       "      <th>2998</th>\n",
       "      <td>12495</td>\n",
       "      <td>24</td>\n",
       "      <td>349.184777</td>\n",
       "      <td>678.57</td>\n",
       "      <td>46943.70275</td>\n",
       "      <td>131.988993</td>\n",
       "      <td>35.123923</td>\n",
       "      <td>4</td>\n",
       "      <td>4</td>\n",
       "      <td>4</td>\n",
       "      <td>11</td>\n",
       "      <td>4</td>\n",
       "      <td>3</td>\n",
       "      <td>3</td>\n",
       "      <td>Não</td>\n",
       "      <td>Não</td>\n",
       "    </tr>\n",
       "    <tr>\n",
       "      <th>2999</th>\n",
       "      <td>12498</td>\n",
       "      <td>55</td>\n",
       "      <td>291.619866</td>\n",
       "      <td>620.64</td>\n",
       "      <td>45555.42250</td>\n",
       "      <td>223.875018</td>\n",
       "      <td>39.080823</td>\n",
       "      <td>3</td>\n",
       "      <td>1</td>\n",
       "      <td>4</td>\n",
       "      <td>7</td>\n",
       "      <td>12</td>\n",
       "      <td>3</td>\n",
       "      <td>5</td>\n",
       "      <td>Não</td>\n",
       "      <td>Não</td>\n",
       "    </tr>\n",
       "  </tbody>\n",
       "</table>\n",
       "<p>3000 rows × 16 columns</p>\n",
       "</div>"
      ],
      "text/plain": [
       "      id_cliente  idade  saldo_atual  divida_atual  renda_anual  \\\n",
       "0              2     32   470.690627        605.03  42688.60400   \n",
       "1              5     25   288.605522        943.86  43545.94475   \n",
       "2              6     35   740.196090        548.20  82208.44752   \n",
       "3              8   7586   298.192158       1704.18  41749.69050   \n",
       "4             10     49   341.554423        421.43  42381.95080   \n",
       "...          ...    ...          ...           ...          ...   \n",
       "2995       12484     48   417.139276        636.96  45532.40174   \n",
       "2996       12487     43   720.344280        717.79  95347.46144   \n",
       "2997       12489     44   874.910490        361.68  97517.21808   \n",
       "2998       12495     24   349.184777        678.57  46943.70275   \n",
       "2999       12498     55   291.619866        620.64  45555.42250   \n",
       "\n",
       "      valor_em_investimentos  taxa_utilizacao_credito  num_emprestimos  \\\n",
       "0                 104.291825                24.464031                1   \n",
       "1                 276.725394                39.797764                0   \n",
       "2                  98.674410                39.962685                0   \n",
       "3                 162.441009                24.448063                3   \n",
       "4                 154.352781                29.519353                2   \n",
       "...                      ...                      ...              ...   \n",
       "2995               94.723661                25.382445                2   \n",
       "2996              160.090877                27.777284                2   \n",
       "2997               98.884010                43.307916                0   \n",
       "2998              131.988993                35.123923                4   \n",
       "2999              223.875018                39.080823                3   \n",
       "\n",
       "      num_contas_bancarias  num_cartoes_credito  dias_atraso_dt_venc  \\\n",
       "0                        2                    4                    3   \n",
       "1                        7                    5                    5   \n",
       "2                        4                 1288                   12   \n",
       "3                        8                    7                   30   \n",
       "4                        0                    5                    4   \n",
       "...                    ...                  ...                  ...   \n",
       "2995                     7                    3                    6   \n",
       "2996                     6                    7                   30   \n",
       "2997                     2                    7                    5   \n",
       "2998                     4                    4                   11   \n",
       "2999                     1                    4                    7   \n",
       "\n",
       "      num_pgtos_atrasados  num_consultas_credito  taxa_juros investe_exterior  \\\n",
       "0                       4                      2           6              Não   \n",
       "1                      14                      4           5              Não   \n",
       "2                      10                      2           8              Não   \n",
       "3                      11                      5          15              Não   \n",
       "4                       0                      2          12              Não   \n",
       "...                   ...                    ...         ...              ...   \n",
       "2995                    8                      4          19              Sim   \n",
       "2996                   20                      5          11              Sim   \n",
       "2997                    7                      1           7              Não   \n",
       "2998                    4                      3           3              Não   \n",
       "2999                   12                      3           5              Não   \n",
       "\n",
       "     pessoa_polit_exp  \n",
       "0                 Não  \n",
       "1                 Não  \n",
       "2                 Não  \n",
       "3                 Não  \n",
       "4                 Não  \n",
       "...               ...  \n",
       "2995              Não  \n",
       "2996              Não  \n",
       "2997              Não  \n",
       "2998              Não  \n",
       "2999              Não  \n",
       "\n",
       "[3000 rows x 16 columns]"
      ]
     },
     "execution_count": 17,
     "metadata": {},
     "output_type": "execute_result"
    }
   ],
   "source": [
    "# Carregar dataset teste\n",
    "df_ktest_raw = pd.read_csv('../data/test.csv')\n",
    "x_ktest = df_ktest_raw.copy()\n",
    "# Conferir dataset teste kaggle\n",
    "x_ktest"
   ]
  },
  {
   "cell_type": "code",
   "execution_count": 18,
   "id": "10362795",
   "metadata": {
    "ExecuteTime": {
     "end_time": "2023-02-21T15:13:04.433278Z",
     "start_time": "2023-02-21T15:13:04.420280Z"
    }
   },
   "outputs": [],
   "source": [
    "# Encodar features categóricas de teste kaggle\n",
    "x_ktest['investe_exterior'] = le_inv_ext.transform(x_ktest['investe_exterior'])\n",
    "x_ktest['pessoa_polit_exp'] = le_pes_pol.transform(x_ktest['pessoa_polit_exp'])"
   ]
  },
  {
   "cell_type": "code",
   "execution_count": 19,
   "id": "3ce7f085",
   "metadata": {
    "ExecuteTime": {
     "end_time": "2023-02-21T15:13:04.448697Z",
     "start_time": "2023-02-21T15:13:04.435279Z"
    }
   },
   "outputs": [],
   "source": [
    "# Fazer a previsão do score usando o modelo final treinado:\n",
    "yhat_xgboost_ktest = model_xgboost_full.predict(x_ktest)"
   ]
  },
  {
   "cell_type": "markdown",
   "id": "6b91e160",
   "metadata": {},
   "source": [
    "# Submission"
   ]
  },
  {
   "cell_type": "code",
   "execution_count": 20,
   "id": "0cfebbea",
   "metadata": {
    "ExecuteTime": {
     "end_time": "2023-02-21T15:13:04.464706Z",
     "start_time": "2023-02-21T15:13:04.454708Z"
    }
   },
   "outputs": [],
   "source": [
    "# Preparação para submissão\n",
    "# Criar dataset final\n",
    "df_sub = pd.concat([df_ktest_raw['id_cliente'], pd.Series(yhat_xgboost_ktest, name='limite_adicional')], axis=1)"
   ]
  },
  {
   "cell_type": "code",
   "execution_count": 21,
   "id": "be66914f",
   "metadata": {
    "ExecuteTime": {
     "end_time": "2023-02-21T15:13:04.480708Z",
     "start_time": "2023-02-21T15:13:04.466712Z"
    }
   },
   "outputs": [],
   "source": [
    "# Traduzir var resposta\n",
    "lim_adi_dic_final = {0 : 'Negar', 1: 'Conceder'}\n",
    "df_sub['limite_adicional'] = df_sub['limite_adicional'].map( lim_adi_dic_final )"
   ]
  },
  {
   "cell_type": "code",
   "execution_count": 22,
   "id": "40e80528",
   "metadata": {
    "ExecuteTime": {
     "end_time": "2023-02-21T15:13:04.495855Z",
     "start_time": "2023-02-21T15:13:04.483772Z"
    }
   },
   "outputs": [
    {
     "data": {
      "text/html": [
       "<div>\n",
       "<style scoped>\n",
       "    .dataframe tbody tr th:only-of-type {\n",
       "        vertical-align: middle;\n",
       "    }\n",
       "\n",
       "    .dataframe tbody tr th {\n",
       "        vertical-align: top;\n",
       "    }\n",
       "\n",
       "    .dataframe thead th {\n",
       "        text-align: right;\n",
       "    }\n",
       "</style>\n",
       "<table border=\"1\" class=\"dataframe\">\n",
       "  <thead>\n",
       "    <tr style=\"text-align: right;\">\n",
       "      <th></th>\n",
       "      <th>id_cliente</th>\n",
       "      <th>limite_adicional</th>\n",
       "    </tr>\n",
       "  </thead>\n",
       "  <tbody>\n",
       "    <tr>\n",
       "      <th>0</th>\n",
       "      <td>2</td>\n",
       "      <td>Conceder</td>\n",
       "    </tr>\n",
       "    <tr>\n",
       "      <th>1</th>\n",
       "      <td>5</td>\n",
       "      <td>Negar</td>\n",
       "    </tr>\n",
       "    <tr>\n",
       "      <th>2</th>\n",
       "      <td>6</td>\n",
       "      <td>Conceder</td>\n",
       "    </tr>\n",
       "    <tr>\n",
       "      <th>3</th>\n",
       "      <td>8</td>\n",
       "      <td>Negar</td>\n",
       "    </tr>\n",
       "    <tr>\n",
       "      <th>4</th>\n",
       "      <td>10</td>\n",
       "      <td>Conceder</td>\n",
       "    </tr>\n",
       "  </tbody>\n",
       "</table>\n",
       "</div>"
      ],
      "text/plain": [
       "   id_cliente limite_adicional\n",
       "0           2         Conceder\n",
       "1           5            Negar\n",
       "2           6         Conceder\n",
       "3           8            Negar\n",
       "4          10         Conceder"
      ]
     },
     "execution_count": 22,
     "metadata": {},
     "output_type": "execute_result"
    }
   ],
   "source": [
    "# Visualizar arquivo final para submissão ao Kaggle\n",
    "df_sub[:5]"
   ]
  },
  {
   "cell_type": "code",
   "execution_count": 23,
   "id": "0766f854",
   "metadata": {
    "ExecuteTime": {
     "end_time": "2023-02-21T15:13:04.527966Z",
     "start_time": "2023-02-21T15:13:04.498854Z"
    }
   },
   "outputs": [],
   "source": [
    "# Gerar export para submission no Kaggle\n",
    "df_sub.to_csv('../data/baseline_kaggle.csv', index=False) "
   ]
  }
 ],
 "metadata": {
  "kernelspec": {
   "display_name": "Python 3 (ipykernel)",
   "language": "python",
   "name": "python3"
  },
  "language_info": {
   "codemirror_mode": {
    "name": "ipython",
    "version": 3
   },
   "file_extension": ".py",
   "mimetype": "text/x-python",
   "name": "python",
   "nbconvert_exporter": "python",
   "pygments_lexer": "ipython3",
   "version": "3.9.13"
  },
  "toc": {
   "base_numbering": 1,
   "nav_menu": {},
   "number_sections": false,
   "sideBar": true,
   "skip_h1_title": false,
   "title_cell": "Table of Contents",
   "title_sidebar": "Contents",
   "toc_cell": false,
   "toc_position": {},
   "toc_section_display": true,
   "toc_window_display": false
  }
 },
 "nbformat": 4,
 "nbformat_minor": 5
}
